{
  "cells": [
    {
      "cell_type": "code",
      "execution_count": 3,
      "metadata": {
        "colab": {
          "base_uri": "https://localhost:8080/"
        },
        "id": "W5yQ8HyRf47l",
        "outputId": "92362a85-085a-47b5-ac96-4b2666824ab7"
      },
      "outputs": [
        {
          "name": "stdout",
          "output_type": "stream",
          "text": [
            "Заявка 1708618212296476 додана до черги.\n",
            "Обробка заявки 1708618212296476...\n",
            "Заявка 1708618212296476 успішно оброблена.\n",
            "Заявка 1708618213300269 додана до черги.\n",
            "Обробка заявки 1708618213300269...\n",
            "Заявка 1708618213300269 успішно оброблена.\n",
            "Заявка 170861821430417 додана до черги.\n",
            "Обробка заявки 170861821430417...\n",
            "Заявка 170861821430417 успішно оброблена.\n",
            "Заявка 1708618215309433 додана до черги.\n",
            "Обробка заявки 1708618215309433...\n",
            "Заявка 1708618215309433 успішно оброблена.\n",
            "Заявка 1708618216314687 додана до черги.\n",
            "Обробка заявки 1708618216314687...\n",
            "Заявка 1708618216314687 успішно оброблена.\n",
            "Заявка 1708618217317861 додана до черги.\n",
            "Обробка заявки 1708618217317861...\n",
            "Заявка 1708618217317861 успішно оброблена.\n",
            "Заявка 1708618218322692 додана до черги.\n",
            "Обробка заявки 1708618218322692...\n",
            "Заявка 1708618218322692 успішно оброблена.\n",
            "Заявка 1708618219325197 додана до черги.\n",
            "Обробка заявки 1708618219325197...\n",
            "Заявка 1708618219325197 успішно оброблена.\n",
            "Заявка 1708618220330377 додана до черги.\n",
            "Обробка заявки 1708618220330377...\n",
            "Заявка 1708618220330377 успішно оброблена.\n",
            "Заявка 1708618221335149 додана до черги.\n",
            "Обробка заявки 1708618221335149...\n",
            "Заявка 1708618221335149 успішно оброблена.\n"
          ]
        }
      ],
      "source": [
        "import queue\n",
        "import threading\n",
        "import time\n",
        "import random\n",
        "\n",
        "request_queue = queue.Queue()\n",
        "\n",
        "def generate_request():\n",
        "    \"\"\"Генерація нової заявки та додавання її до черги.\"\"\"\n",
        "    new_request = {\"id\": unique_id_generator(), \"timestamp\": time.time()}\n",
        "    request_queue.put(new_request)\n",
        "    print(f\"Заявка {new_request['id']} додана до черги.\")\n",
        "\n",
        "def process_request():\n",
        "    \"\"\"Обробка заявок у черзі.\"\"\"\n",
        "    if not request_queue.empty():\n",
        "        current_request = request_queue.get()\n",
        "        print(f\"Обробка заявки {current_request['id']}...\")\n",
        "        # Ваш код для обробки заявки\n",
        "        print(f\"Заявка {current_request['id']} успішно оброблена.\")\n",
        "    else:\n",
        "        print(\"Черга порожня. Очікування нових заявок.\")\n",
        "\n",
        "def unique_id_generator():\n",
        "    \"\"\"Генерація унікального ідентифікатора.\"\"\"\n",
        "    return str(int(time.time() * 1000)) + str(random.randint(1, 1000))\n",
        "\n",
        "def get_user_input():\n",
        "    \"\"\"Функція потоку для отримання вводу користувача.\"\"\"\n",
        "    global stop_flag\n",
        "    input(\"Натисніть 's' та Enter, щоб завершити програму: \")\n",
        "    stop_flag = True\n",
        "\n",
        "stop_flag = False\n",
        "\n",
        "def main():\n",
        "    global stop_flag\n",
        "    user_input_thread = threading.Thread(target=get_user_input)\n",
        "    user_input_thread.start()\n",
        "\n",
        "    try:\n",
        "        while not stop_flag:\n",
        "            generate_request()\n",
        "            process_request()\n",
        "            time.sleep(1)\n",
        "    except KeyboardInterrupt:\n",
        "        print(\"\\nПрограма завершена користувачем.\")\n",
        "    finally:\n",
        "        user_input_thread.join()\n",
        "\n",
        "if __name__ == \"__main__\":\n",
        "    main()\n"
      ]
    },
    {
      "cell_type": "code",
      "execution_count": 2,
      "metadata": {
        "colab": {
          "base_uri": "https://localhost:8080/"
        },
        "id": "rz6dXlRgcba5",
        "outputId": "51c7d9e3-808a-4473-d377-3c84a5068b4f"
      },
      "outputs": [
        {
          "name": "stdout",
          "output_type": "stream",
          "text": [
            "Програма завершує роботу.\n"
          ]
        }
      ],
      "source": [
        "from collections import deque\n",
        "\n",
        "def is_palindrome(input_str):\n",
        "    \"\"\"Перевіряє, чи є рядок паліндромом.\"\"\"\n",
        "    clean_str = ''.join(char.lower() for char in input_str if char.isalnum())\n",
        "    char_deque = deque(clean_str)\n",
        "\n",
        "    while len(char_deque) > 1:\n",
        "        if char_deque.popleft() != char_deque.pop():\n",
        "            return False\n",
        "\n",
        "    return True\n",
        "\n",
        "def main():\n",
        "    while True:\n",
        "        user_input = input(\"Введіть рядок (або 'exit' для виходу): \")\n",
        "\n",
        "        if user_input.lower() == 'exit':\n",
        "            print(\"Програма завершує роботу.\")\n",
        "            break\n",
        "\n",
        "        if is_palindrome(user_input):\n",
        "            print(\"Рядок є паліндромом.\")\n",
        "        else:\n",
        "            print(\"Рядок не є паліндромом.\")\n",
        "\n",
        "if __name__ == \"__main__\":\n",
        "    main()\n"
      ]
    }
  ],
  "metadata": {
    "colab": {
      "provenance": []
    },
    "kernelspec": {
      "display_name": "Python 3",
      "name": "python3"
    },
    "language_info": {
      "codemirror_mode": {
        "name": "ipython",
        "version": 3
      },
      "file_extension": ".py",
      "mimetype": "text/x-python",
      "name": "python",
      "nbconvert_exporter": "python",
      "pygments_lexer": "ipython3",
      "version": "3.12.0"
    }
  },
  "nbformat": 4,
  "nbformat_minor": 0
}
